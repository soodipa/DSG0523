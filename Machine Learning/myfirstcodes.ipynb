{
 "cells": [
  {
   "cell_type": "code",
   "execution_count": 1,
   "id": "18ee323b",
   "metadata": {},
   "outputs": [],
   "source": [
    "data= \"Welcome to the data science world\""
   ]
  },
  {
   "cell_type": "code",
   "execution_count": 2,
   "id": "1c334a69",
   "metadata": {},
   "outputs": [
    {
     "data": {
      "text/plain": [
       "'Welcome to the data science world'"
      ]
     },
     "execution_count": 2,
     "metadata": {},
     "output_type": "execute_result"
    }
   ],
   "source": [
    "data"
   ]
  },
  {
   "cell_type": "code",
   "execution_count": null,
   "id": "51afd36f",
   "metadata": {},
   "outputs": [],
   "source": [
    "data= \"Welcome to the data science world\""
   ]
  },
  {
   "cell_type": "code",
   "execution_count": 3,
   "id": "589a42ea",
   "metadata": {},
   "outputs": [
    {
     "name": "stdout",
     "output_type": "stream",
     "text": [
      "Soodipa\n"
     ]
    }
   ],
   "source": [
    "a= \"Soodipa\"\n",
    "print(a)\n"
   ]
  },
  {
   "cell_type": "code",
   "execution_count": null,
   "id": "de2b5d77",
   "metadata": {},
   "outputs": [],
   "source": [
    "data= (Welcome to the data science world)"
   ]
  },
  {
   "cell_type": "code",
   "execution_count": 4,
   "id": "b08c419f",
   "metadata": {},
   "outputs": [
    {
     "data": {
      "text/plain": [
       "'Welcome to the data science world'"
      ]
     },
     "execution_count": 4,
     "metadata": {},
     "output_type": "execute_result"
    }
   ],
   "source": [
    "data"
   ]
  },
  {
   "cell_type": "code",
   "execution_count": 5,
   "id": "39781660",
   "metadata": {},
   "outputs": [
    {
     "name": "stdout",
     "output_type": "stream",
     "text": [
      "My name is Soodipa Chakraborty\n"
     ]
    }
   ],
   "source": [
    "a1= \"My name is Soodipa Chakraborty\"\n",
    "print(a1)"
   ]
  },
  {
   "cell_type": "code",
   "execution_count": 6,
   "id": "88428589",
   "metadata": {},
   "outputs": [
    {
     "name": "stdout",
     "output_type": "stream",
     "text": [
      "23\n"
     ]
    }
   ],
   "source": [
    "print(10+5+8)"
   ]
  },
  {
   "cell_type": "code",
   "execution_count": null,
   "id": "58b8204e",
   "metadata": {},
   "outputs": [],
   "source": []
  }
 ],
 "metadata": {
  "kernelspec": {
   "display_name": "Python 3 (ipykernel)",
   "language": "python",
   "name": "python3"
  },
  "language_info": {
   "codemirror_mode": {
    "name": "ipython",
    "version": 3
   },
   "file_extension": ".py",
   "mimetype": "text/x-python",
   "name": "python",
   "nbconvert_exporter": "python",
   "pygments_lexer": "ipython3",
   "version": "3.10.9"
  }
 },
 "nbformat": 4,
 "nbformat_minor": 5
}
